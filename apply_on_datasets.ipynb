{
 "cells": [
  {
   "cell_type": "code",
   "execution_count": 1,
   "id": "89c77fe0-ff44-49fe-a241-5911340f9396",
   "metadata": {
    "jupyter": {
     "source_hidden": true
    }
   },
   "outputs": [],
   "source": [
    "from fusinter_v1 import FUSINTERDiscretizer as v1\n",
    "from fusinter_v2 import FUSINTERDiscretizer as v2\n",
    "from fusinter_v2_2 import FUSINTERDiscretizer as v2_2\n",
    "from datasets import paper_dataset_x, paper_dataset_y\n",
    "\n",
    "import pandas as pd\n",
    "import numpy as np\n",
    "from matplotlib import pyplot as plt\n",
    "import seaborn as sns\n",
    "\n",
    "from sklearn.datasets import load_iris, load_wine\n",
    "\n",
    "import ipywidgets as widgets\n",
    "\n",
    "plt.style.use(\"fivethirtyeight\")"
   ]
  },
  {
   "cell_type": "markdown",
   "id": "f07d9941-a298-45fb-87e6-4639e2689587",
   "metadata": {},
   "source": [
    "## Paper Dataset"
   ]
  },
  {
   "cell_type": "code",
   "execution_count": 2,
   "id": "667414a2-d111-4503-a7ef-a2f20cda9304",
   "metadata": {
    "editable": true,
    "jupyter": {
     "source_hidden": true
    },
    "slideshow": {
     "slide_type": ""
    },
    "tags": []
   },
   "outputs": [
    {
     "data": {
      "application/vnd.jupyter.widget-view+json": {
       "model_id": "554750f9a6dc4973baad23c02cb642bf",
       "version_major": 2,
       "version_minor": 0
      },
      "text/plain": [
       "interactive(children=(FloatSlider(value=0.95, description='alpha:', max=1.0, step=0.05), FloatSlider(value=1.0…"
      ]
     },
     "metadata": {},
     "output_type": "display_data"
    }
   ],
   "source": [
    "alpha_slider = widgets.FloatSlider(\n",
    "    value=0.95,\n",
    "    min=0,\n",
    "    max=1,\n",
    "    step=0.05,\n",
    "    description='alpha:',\n",
    "    orientation='horizontal',\n",
    "    readout=True,\n",
    "    readout_format='.2f',\n",
    ")\n",
    "lam_slider = widgets.FloatSlider(\n",
    "    value=1,\n",
    "    min=0,\n",
    "    max=1.0,\n",
    "    step=0.05,\n",
    "    description='lambda:',\n",
    "    orientation='horizontal',\n",
    "    readout_format='.2f',\n",
    "    readout=True,\n",
    ")\n",
    "\n",
    "dropdown = widgets.Dropdown(\n",
    "    options=[(\"version 1\", v1), (\"version 2\", v2), (\"version 2.2\", v2_2)],\n",
    "    description='Discretizer Verion:',\n",
    "    disabled=False,\n",
    ")\n",
    "\n",
    "@widgets.interact(alpha=alpha_slider, lam=lam_slider, selector=dropdown)\n",
    "def f(alpha, lam, selector):\n",
    "    FUSINTERDiscretizer = selector\n",
    "    X = paper_dataset_x\n",
    "    y = paper_dataset_y\n",
    "    discretizer = FUSINTERDiscretizer(X, y)\n",
    "    final_splits = discretizer.apply(alpha=alpha, lam=lam)\n",
    "    display(\"final splits\", final_splits)\n",
    "\n",
    "    fig, ax = plt.subplots(1)\n",
    "    fig.set_size_inches(15, 5)\n",
    "    sns.stripplot(y=X, x=y.astype(int), ax=ax)\n",
    "    ax.hlines(final_splits, xmin=-1, xmax=3, color=\"red\")\n",
    "\n",
    "    ax.set_title(\"Fusinter Splits for Paper Dataset\")\n",
    "    ax.set_xlabel(\"class\")\n",
    "    ax.set_ylabel(\"value\")\n",
    "    "
   ]
  },
  {
   "cell_type": "markdown",
   "id": "10e6eb25-9633-4c38-811b-2fda1dfc8867",
   "metadata": {},
   "source": [
    "## Iris Dataset"
   ]
  },
  {
   "cell_type": "code",
   "execution_count": 3,
   "id": "dce40001-3701-4794-814b-b1c73da0551b",
   "metadata": {
    "jupyter": {
     "source_hidden": true
    }
   },
   "outputs": [
    {
     "data": {
      "application/vnd.jupyter.widget-view+json": {
       "model_id": "aec922dca55045a0a81191e433859a15",
       "version_major": 2,
       "version_minor": 0
      },
      "text/plain": [
       "interactive(children=(FloatSlider(value=0.95, description='alpha:', max=1.0, step=0.05), FloatSlider(value=1.0…"
      ]
     },
     "metadata": {},
     "output_type": "display_data"
    }
   ],
   "source": [
    "alpha_slider = widgets.FloatSlider(\n",
    "    value=0.95,\n",
    "    min=0,\n",
    "    max=1,\n",
    "    step=0.05,\n",
    "    description='alpha:',\n",
    "    orientation='horizontal',\n",
    "    readout=True,\n",
    "    readout_format='.2f',\n",
    ")\n",
    "lam_slider = widgets.FloatSlider(\n",
    "    value=1,\n",
    "    min=0,\n",
    "    max=1.0,\n",
    "    step=0.05,\n",
    "    description='lambda:',\n",
    "    orientation='horizontal',\n",
    "    readout_format='.2f',\n",
    "    readout=True,\n",
    ")\n",
    "\n",
    "dropdown = widgets.Dropdown(\n",
    "    options=[(\"version 1\", v1), (\"version 2\", v2), (\"version 2.2\", v2_2)],\n",
    "    description='Discretizer Verion:',\n",
    "    disabled=False,\n",
    ")\n",
    "\n",
    "@widgets.interact(alpha=alpha_slider, lam=lam_slider, selector=dropdown)\n",
    "def f(alpha, lam, selector):\n",
    "    FUSINTERDiscretizer = selector\n",
    "    iris_ds = load_iris()\n",
    "    X = iris_ds[\"data\"][:, 2] # sepal length data\n",
    "    y = iris_ds[\"target\"]\n",
    "    discretizer = FUSINTERDiscretizer(X, y)\n",
    "    final_splits = discretizer.apply(alpha=alpha, lam=lam)\n",
    "    display(\"final splits\", final_splits)\n",
    "\n",
    "    fig, ax = plt.subplots(1)\n",
    "    fig.set_size_inches(15, 5)\n",
    "    sns.stripplot(y=X, x=y.astype(int), ax=ax)\n",
    "    ax.hlines(final_splits, xmin=-1, xmax=3, color=\"red\")\n",
    "\n",
    "    ax.set_title(\"Fusinter Splits for Petal Length\")\n",
    "    ax.set_xlabel(\"class\")\n",
    "    ax.set_ylabel(\"length\")\n",
    "    "
   ]
  },
  {
   "cell_type": "markdown",
   "id": "82d5ea97-3d58-4c59-861b-f5e9940c7c0c",
   "metadata": {},
   "source": [
    "## Titanic Dataset"
   ]
  },
  {
   "cell_type": "code",
   "execution_count": 4,
   "id": "6faec4ce-1486-4803-9f49-45377a41b351",
   "metadata": {},
   "outputs": [
    {
     "data": {
      "application/vnd.jupyter.widget-view+json": {
       "model_id": "712b5848a7da4d21bb154b1dc51536fa",
       "version_major": 2,
       "version_minor": 0
      },
      "text/plain": [
       "interactive(children=(FloatSlider(value=0.95, description='alpha:', max=1.0, step=0.05), FloatSlider(value=1.0…"
      ]
     },
     "metadata": {},
     "output_type": "display_data"
    }
   ],
   "source": [
    "alpha_slider = widgets.FloatSlider(\n",
    "    value=0.95,\n",
    "    min=0,\n",
    "    max=1,\n",
    "    step=0.05,\n",
    "    description='alpha:',\n",
    "    orientation='horizontal',\n",
    "    readout=True,\n",
    "    readout_format='.2f',\n",
    ")\n",
    "lam_slider = widgets.FloatSlider(\n",
    "    value=1,\n",
    "    min=0,\n",
    "    max=1.0,\n",
    "    step=0.05,\n",
    "    description='lambda:',\n",
    "    orientation='horizontal',\n",
    "    readout_format='.2f',\n",
    "    readout=True,\n",
    ")\n",
    "\n",
    "dropdown = widgets.Dropdown(\n",
    "    options=[(\"version 1\", v1), (\"version 2\", v2), (\"version 2.2\", v2_2)],\n",
    "    description='Discretizer Verion:',\n",
    "    disabled=False,\n",
    ")\n",
    "\n",
    "@widgets.interact(alpha=alpha_slider, lam=lam_slider, selector=dropdown)\n",
    "def f(alpha, lam, selector):\n",
    "    FUSINTERDiscretizer = selector\n",
    "    df = pd.read_csv(\"titanic.csv\")\n",
    "    df.set_index(\"PassengerId\", inplace=True)\n",
    "    not_na_mask =  ~df[\"Age\"].isnull()\n",
    "    X = df[\"Age\"][not_na_mask].to_numpy()\n",
    "    y = df[\"Survived\"][not_na_mask].to_numpy()\n",
    "    discretizer = FUSINTERDiscretizer(X, y)\n",
    "    final_splits = discretizer.apply(alpha=alpha, lam=lam)\n",
    "    display(\"final splits\", final_splits)\n",
    "\n",
    "    fig, ax = plt.subplots(1)\n",
    "    fig.set_size_inches(15, 5)\n",
    "    plt.xlim(0,75)\n",
    "    sns.kdeplot(x=X[y == 0], label=\"died\")\n",
    "    sns.kdeplot(x=X[y == 1], label=\"survived\")\n",
    "    plt.vlines(final_splits, ymin=0, ymax=0.03, color=\"red\")\n",
    "    plt.grid()\n",
    "    ax.set_title(\"Fusinter Splits for Titanic Age Dataset\")\n",
    "    ax.set_xlabel(\"age\")\n",
    "    ax.set_ylabel(\"density\")\n",
    "    ax.legend()\n",
    "\n",
    "    "
   ]
  },
  {
   "cell_type": "markdown",
   "id": "2ebfc2d9-5693-4e72-8fae-ddfed0431518",
   "metadata": {},
   "source": [
    "## Wine Dataset"
   ]
  },
  {
   "cell_type": "code",
   "execution_count": 4,
   "id": "4ee3538e-2647-4534-b13b-0d632aa3f8b1",
   "metadata": {},
   "outputs": [
    {
     "data": {
      "application/vnd.jupyter.widget-view+json": {
       "model_id": "a7752e2e96fc4eae84de54a512d493ab",
       "version_major": 2,
       "version_minor": 0
      },
      "text/plain": [
       "interactive(children=(FloatSlider(value=0.95, description='alpha:', max=1.0, step=0.05), FloatSlider(value=1.0…"
      ]
     },
     "metadata": {},
     "output_type": "display_data"
    }
   ],
   "source": [
    "alpha_slider = widgets.FloatSlider(\n",
    "    value=0.95,\n",
    "    min=0,\n",
    "    max=1,\n",
    "    step=0.05,\n",
    "    description='alpha:',\n",
    "    orientation='horizontal',\n",
    "    readout=True,\n",
    "    readout_format='.2f',\n",
    ")\n",
    "lam_slider = widgets.FloatSlider(\n",
    "    value=1,\n",
    "    min=0,\n",
    "    max=1.0,\n",
    "    step=0.05,\n",
    "    description='lambda:',\n",
    "    orientation='horizontal',\n",
    "    readout_format='.2f',\n",
    "    readout=True,\n",
    ")\n",
    "\n",
    "dropdown = widgets.Dropdown(\n",
    "    options=[(\"version 1\", v1), (\"version 2\", v2), (\"version 2.2\", v2_2)],\n",
    "    description='Discretizer Verion:',\n",
    "    disabled=False,\n",
    ")\n",
    "\n",
    "@widgets.interact(alpha=alpha_slider, lam=lam_slider, selector=dropdown)\n",
    "def f(alpha, lam, selector):\n",
    "    FUSINTERDiscretizer = selector\n",
    "    data_wine = load_wine()\n",
    "    X = data_wine[\"data\"][:, 0]\n",
    "    y = data_wine[\"target\"]\n",
    "    discretizer = FUSINTERDiscretizer(X, y)\n",
    "    final_splits = discretizer.apply(alpha=alpha, lam=lam)\n",
    "    display(\"final splits\", final_splits)\n",
    "\n",
    "    fig, ax = plt.subplots(1)\n",
    "    fig.set_size_inches(15, 5)\n",
    "    sns.stripplot(y=X, x=y.astype(int), ax=ax)\n",
    "    ax.hlines(final_splits, xmin=-1, xmax=3, color=\"red\")\n",
    "\n",
    "    ax.set_title(\"Fusinter Splits for Wine Dataset\")\n",
    "    ax.set_xlabel(\"class\")\n",
    "    ax.set_ylabel(\"value\")\n",
    "    "
   ]
  },
  {
   "cell_type": "markdown",
   "id": "ea9f21a1-e5ac-4ce5-97c8-ac21a7d2cbc0",
   "metadata": {},
   "source": [
    "# Identical Dataset (For Testing that no split is generated)"
   ]
  },
  {
   "cell_type": "code",
   "execution_count": 3,
   "id": "d31902bf-c69c-467e-9f4c-c07aee88b9d7",
   "metadata": {},
   "outputs": [
    {
     "data": {
      "application/vnd.jupyter.widget-view+json": {
       "model_id": "3ecf5a45805941fa99f6de7067e63cb4",
       "version_major": 2,
       "version_minor": 0
      },
      "text/plain": [
       "interactive(children=(FloatSlider(value=0.95, description='alpha:', max=1.0, step=0.05), FloatSlider(value=1.0…"
      ]
     },
     "metadata": {},
     "output_type": "display_data"
    }
   ],
   "source": [
    "alpha_slider = widgets.FloatSlider(\n",
    "    value=0.95,\n",
    "    min=0,\n",
    "    max=1,\n",
    "    step=0.05,\n",
    "    description='alpha:',\n",
    "    orientation='horizontal',\n",
    "    readout=True,\n",
    "    readout_format='.2f',\n",
    ")\n",
    "lam_slider = widgets.FloatSlider(\n",
    "    value=1,\n",
    "    min=0,\n",
    "    max=1.0,\n",
    "    step=0.05,\n",
    "    description='lambda:',\n",
    "    orientation='horizontal',\n",
    "    readout_format='.2f',\n",
    "    readout=True,\n",
    ")\n",
    "\n",
    "dropdown = widgets.Dropdown(\n",
    "    options=[(\"version 1\", v1), (\"version 2\", v2), (\"version 2.2\", v2_2)],\n",
    "    description='Discretizer Verion:',\n",
    "    disabled=False,\n",
    ")\n",
    "\n",
    "@widgets.interact(alpha=alpha_slider, lam=lam_slider, selector=dropdown)\n",
    "def f(alpha, lam, selector):\n",
    "    FUSINTERDiscretizer = selector\n",
    "    X = np.tile(np.random.randn(20),2)\n",
    "    y = np.repeat([0,1], 20)\n",
    "    discretizer = FUSINTERDiscretizer(X, y)\n",
    "    final_splits = discretizer.apply(alpha=alpha, lam=lam)\n",
    "    display(\"final splits\", final_splits)\n",
    "\n",
    "    fig, ax = plt.subplots(1)\n",
    "    fig.set_size_inches(15, 5)\n",
    "    sns.stripplot(y=X, x=y.astype(int), ax=ax)\n",
    "    ax.hlines(final_splits, xmin=-1, xmax=3, color=\"red\")\n",
    "\n",
    "    ax.set_title(\"Fusinter Splits for Identical Normal Distributed Dataset\")\n",
    "    ax.set_xlabel(\"class\")\n",
    "    ax.set_ylabel(\"value\")"
   ]
  },
  {
   "cell_type": "code",
   "execution_count": null,
   "id": "b3703378-a355-4894-8644-17d49ef5b051",
   "metadata": {},
   "outputs": [],
   "source": []
  }
 ],
 "metadata": {
  "kernelspec": {
   "display_name": "Python 3 (ipykernel)",
   "language": "python",
   "name": "python3"
  },
  "language_info": {
   "codemirror_mode": {
    "name": "ipython",
    "version": 3
   },
   "file_extension": ".py",
   "mimetype": "text/x-python",
   "name": "python",
   "nbconvert_exporter": "python",
   "pygments_lexer": "ipython3",
   "version": "3.10.0"
  }
 },
 "nbformat": 4,
 "nbformat_minor": 5
}
